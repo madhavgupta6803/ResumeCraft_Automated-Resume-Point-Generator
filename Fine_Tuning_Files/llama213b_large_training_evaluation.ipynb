{
  "cells": [
    {
      "cell_type": "code",
      "execution_count": 1,
      "metadata": {
        "id": "kZ11UN4iWNzW"
      },
      "outputs": [],
      "source": [
        "!pip install -q -U transformers peft accelerate optimum"
      ]
    },
    {
      "cell_type": "code",
      "execution_count": null,
      "metadata": {
        "colab": {
          "base_uri": "https://localhost:8080/"
        },
        "id": "FKD0HY8eWTOQ",
        "outputId": "a7ffc3b4-dfa1-4c8e-b03d-775f13011693"
      },
      "outputs": [],
      "source": [
        "!pip install auto-gptq --extra-index-url https://huggingface.github.io/autogptq-index/whl/cu117/"
      ]
    },
    {
      "cell_type": "code",
      "execution_count": null,
      "metadata": {
        "colab": {
          "base_uri": "https://localhost:8080/"
        },
        "id": "i1kuySlGpdoz",
        "outputId": "681750f5-8c78-4508-fb0d-beeba91acafa"
      },
      "outputs": [],
      "source": [
        "pip install wandb"
      ]
    },
    {
      "cell_type": "code",
      "execution_count": 4,
      "metadata": {
        "id": "k6156OF7H49n"
      },
      "outputs": [],
      "source": [
        "import torch\n",
        "import json\n",
        "import os\n",
        "import pandas as pd\n",
        "os.environ[\"CUDA_VISIBLE_DEVICES\"] = \"0\"\n",
        "DEVICE = \"cuda:0\" if torch.cuda.is_available() else \"cpu\""
      ]
    },
    {
      "cell_type": "code",
      "execution_count": 5,
      "metadata": {
        "colab": {
          "base_uri": "https://localhost:8080/"
        },
        "execution": {
          "iopub.execute_input": "2023-11-26T19:45:45.587207Z",
          "iopub.status.busy": "2023-11-26T19:45:45.586647Z",
          "iopub.status.idle": "2023-11-26T19:45:45.598118Z",
          "shell.execute_reply": "2023-11-26T19:45:45.597251Z",
          "shell.execute_reply.started": "2023-11-26T19:45:45.587172Z"
        },
        "id": "QFcu8MYWJDE_",
        "outputId": "3bc963a8-1254-44ed-be03-e7938201462e",
        "trusted": true
      },
      "outputs": [
        {
          "name": "stdout",
          "output_type": "stream",
          "text": [
            "{'input': 'Fingerprint Security Lock', 'output': ['Brainstormed on a security system to be guarded by fingerprints using an AS608 fingerprint sensor', 'Implemented this model using an Arduino UNO Breakout board along with a Relay Module.']}\n",
            "{'input': 'Lego Image Classifier - Computer Vision, Self Project', 'output': ['Built a multi-class classifier with Keras, which can classify Lego images into 16 distinct classes using state of the art VGG16 algorithm, achieving 95% training accuracy', 'Given data was a folder containing 4500 images and a CSV file with respective class labels. Using Python, segregated them into 16 folders with each type of Lego to feed to CNN']}\n"
          ]
        }
      ],
      "source": [
        "# Open and load the content of the Train_dataset.json file into Train_data\n",
        "with open(\"/content/Train_dataset.json\") as json_file:\n",
        "    Train_data = json.load(json_file)\n",
        "\n",
        "# Open and load the content of the Valid_dataset.json file into Validation_data\n",
        "with open(\"/content/Valid_dataset.json\") as json_file:\n",
        "    Validation_data = json.load(json_file)\n",
        "\n",
        "# Print the first element of Train_data and Validation_data\n",
        "print(Train_data[0])\n",
        "print(Validation_data[0])\n",
        "\n",
        "# Convert Train_data and Validation_data into pandas Series\n",
        "Train_data = pd.Series(Train_data)\n",
        "Validation_data = pd.Series(Validation_data)\n"
      ]
    },
    {
      "cell_type": "code",
      "execution_count": 6,
      "metadata": {
        "id": "YBgH76jaD6-w"
      },
      "outputs": [],
      "source": [
        "def formatting_func(example):\n",
        "    text = f\"\"\"<s>[INST] <<SYS>> Answer the question based on the question below, you are a helpful resume points generator.\n",
        "        [Question]: {example['input']}\n",
        "        ### [Answer]: {example['output']} [\\INST]\"\"\"\n",
        "\n",
        "\n",
        "    return text"
      ]
    },
    {
      "cell_type": "code",
      "execution_count": 7,
      "metadata": {
        "colab": {
          "base_uri": "https://localhost:8080/"
        },
        "id": "VC14Vxs2Q3Xi",
        "outputId": "9131ebf4-8c4b-4972-bf7e-eaa166cf763d"
      },
      "outputs": [
        {
          "name": "stderr",
          "output_type": "stream",
          "text": [
            "Using `disable_exllama` is deprecated and will be removed in version 4.37. Use `use_exllama` instead and specify the version with `exllama_config`.The value of `use_exllama` will be overwritten by `disable_exllama` passed in `GPTQConfig` or stored in your config file.\n",
            "You passed `quantization_config` to `from_pretrained` but the model you're loading already has a `quantization_config` attribute and has already quantized weights. However, loading attributes (e.g. use_exllama, exllama_config, use_cuda_fp16, max_input_length) will be overwritten with the one you passed to `from_pretrained`. The rest will be ignored.\n",
            "WARNING:auto_gptq.nn_modules.qlinear.qlinear_cuda:CUDA extension not installed.\n",
            "WARNING:auto_gptq.nn_modules.qlinear.qlinear_cuda_old:CUDA extension not installed.\n"
          ]
        }
      ],
      "source": [
        "# Import necessary modules from transformers library\n",
        "from transformers import AutoTokenizer, AutoModelForCausalLM, GPTQConfig\n",
        "\n",
        "# Define quantization configuration with 4 bits and disabling exllama\n",
        "quantization_config_loading = GPTQConfig(bits=4, disable_exllama=True)\n",
        "\n",
        "# Specify the model name or path and the model basename\n",
        "model_name_or_path = \"TheBloke/Llama-2-13B-chat-GPTQ\"\n",
        "model_basename = \"model\"\n",
        "\n",
        "# Load the pre-trained model for causal language modeling\n",
        "model = AutoModelForCausalLM.from_pretrained(\n",
        "    model_name_or_path,\n",
        "    revision=\"gptq-4bit-32g-actorder_True\",\n",
        "    use_safetensors=True,\n",
        "    trust_remote_code=True,\n",
        "    quantization_config=quantization_config_loading,\n",
        "    device_map=\"auto\"\n",
        ")\n",
        "\n",
        "# Disable caching in the model configuration\n",
        "model.config.use_cache = False\n",
        "\n",
        "# Load the tokenizer for the specified model\n",
        "tokenizer = AutoTokenizer.from_pretrained(\n",
        "    model_name_or_path,\n",
        "    padding_side=\"left\",\n",
        "    add_eos_token=True,\n",
        "    add_bos_token=True\n",
        ")\n",
        "\n",
        "# Set the pad_token to be the same as the eos_token\n",
        "tokenizer.pad_token = tokenizer.eos_token\n",
        "\n",
        "# Define a function to generate and tokenize a prompt using a formatting function\n",
        "def generate_and_tokenize_prompt(prompt):\n",
        "    return tokenizer(formatting_func(prompt))\n"
      ]
    },
    {
      "cell_type": "code",
      "execution_count": 8,
      "metadata": {
        "execution": {
          "iopub.execute_input": "2023-11-26T20:09:41.282254Z",
          "iopub.status.busy": "2023-11-26T20:09:41.281834Z",
          "iopub.status.idle": "2023-11-26T20:09:41.342817Z",
          "shell.execute_reply": "2023-11-26T20:09:41.342090Z",
          "shell.execute_reply.started": "2023-11-26T20:09:41.282221Z"
        },
        "id": "sZLbrUqgJDFC",
        "trusted": true
      },
      "outputs": [],
      "source": [
        "tokenised_Train_dataset = Train_data.map(generate_and_tokenize_prompt)\n",
        "tokenised_valid_dataset = Validation_data.map(generate_and_tokenize_prompt)"
      ]
    },
    {
      "cell_type": "code",
      "execution_count": 9,
      "metadata": {
        "colab": {
          "base_uri": "https://localhost:8080/",
          "height": 582
        },
        "execution": {
          "iopub.execute_input": "2023-11-26T20:10:23.360179Z",
          "iopub.status.busy": "2023-11-26T20:10:23.359361Z",
          "iopub.status.idle": "2023-11-26T20:10:23.672512Z",
          "shell.execute_reply": "2023-11-26T20:10:23.671664Z",
          "shell.execute_reply.started": "2023-11-26T20:10:23.360136Z"
        },
        "id": "miPPI3VWJDFC",
        "outputId": "cef7be4d-8f27-4272-b781-6141ccd050e0",
        "trusted": true
      },
      "outputs": [
        {
          "name": "stdout",
          "output_type": "stream",
          "text": [
            "619\n"
          ]
        },
        {
          "data": {
            "image/png": "[encoded data removed]",
            "text/plain": [
              "<Figure size 1000x600 with 1 Axes>"
            ]
          },
          "metadata": {},
          "output_type": "display_data"
        }
      ],
      "source": [
        "import matplotlib.pyplot as plt\n",
        "\n",
        "def plot_data_lengths(tokenized_train_dataset, tokenized_val_dataset):\n",
        "    lengths = [len(x['input_ids']) for x in tokenized_train_dataset]\n",
        "    lengths += [len(x['input_ids']) for x in tokenized_val_dataset]\n",
        "    print(len(lengths))\n",
        "\n",
        "    # Plotting the histogram\n",
        "    plt.figure(figsize=(10, 6))\n",
        "    plt.hist(lengths, bins=20, alpha=0.7, color='blue')\n",
        "    plt.xlabel('Length of input_ids')\n",
        "    plt.ylabel('Frequency')\n",
        "    plt.title('Distribution of Lengths of input_ids')\n",
        "    plt.show()\n",
        "\n",
        "plot_data_lengths(tokenised_Train_dataset, tokenised_valid_dataset)"
      ]
    },
    {
      "cell_type": "code",
      "execution_count": 10,
      "metadata": {
        "execution": {
          "iopub.execute_input": "2023-11-26T20:12:59.296788Z",
          "iopub.status.busy": "2023-11-26T20:12:59.296040Z",
          "iopub.status.idle": "2023-11-26T20:12:59.300915Z",
          "shell.execute_reply": "2023-11-26T20:12:59.299918Z",
          "shell.execute_reply.started": "2023-11-26T20:12:59.296749Z"
        },
        "id": "VGRnIZ4vJDFC",
        "trusted": true
      },
      "outputs": [],
      "source": [
        "max_length = 200"
      ]
    },
    {
      "cell_type": "code",
      "execution_count": 11,
      "metadata": {
        "execution": {
          "iopub.execute_input": "2023-11-26T20:13:03.044396Z",
          "iopub.status.busy": "2023-11-26T20:13:03.043325Z",
          "iopub.status.idle": "2023-11-26T20:13:03.050291Z",
          "shell.execute_reply": "2023-11-26T20:13:03.049257Z",
          "shell.execute_reply.started": "2023-11-26T20:13:03.044348Z"
        },
        "id": "qCYq_XcHJDFC",
        "trusted": true
      },
      "outputs": [],
      "source": [
        "# Define a function to generate and tokenize a prompt using the tokenizer\n",
        "def generate_and_tokenize_prompt2(prompt):\n",
        "    # Tokenize the prompt using the specified formatting function and additional configurations\n",
        "    result = tokenizer(\n",
        "        formatting_func(prompt),\n",
        "        truncation=True,\n",
        "        max_length=max_length,\n",
        "        padding=\"max_length\"\n",
        "    )\n",
        "\n",
        "    # Copy input_ids to labels in the result dictionary\n",
        "    result[\"labels\"] = result[\"input_ids\"].copy()\n",
        "\n",
        "    # Return the result\n",
        "    return result\n"
      ]
    },
    {
      "cell_type": "code",
      "execution_count": 12,
      "metadata": {
        "execution": {
          "iopub.execute_input": "2023-11-26T20:13:50.884092Z",
          "iopub.status.busy": "2023-11-26T20:13:50.883687Z",
          "iopub.status.idle": "2023-11-26T20:13:50.947144Z",
          "shell.execute_reply": "2023-11-26T20:13:50.946375Z",
          "shell.execute_reply.started": "2023-11-26T20:13:50.884059Z"
        },
        "id": "4gzLS4XpJDFC",
        "trusted": true
      },
      "outputs": [],
      "source": [
        "tokenized_train_dataset = Train_data.map(generate_and_tokenize_prompt2)\n",
        "tokenized_val_dataset = Validation_data.map(generate_and_tokenize_prompt2)"
      ]
    },
    {
      "cell_type": "code",
      "execution_count": 13,
      "metadata": {
        "colab": {
          "base_uri": "https://localhost:8080/",
          "height": 582
        },
        "execution": {
          "iopub.execute_input": "2023-11-26T20:14:09.593029Z",
          "iopub.status.busy": "2023-11-26T20:14:09.592642Z",
          "iopub.status.idle": "2023-11-26T20:14:09.897218Z",
          "shell.execute_reply": "2023-11-26T20:14:09.896245Z",
          "shell.execute_reply.started": "2023-11-26T20:14:09.592996Z"
        },
        "id": "gpLbKl4lJDFC",
        "outputId": "4db0f9f6-1297-408b-a007-4e0d8eb5592f",
        "trusted": true
      },
      "outputs": [
        {
          "name": "stdout",
          "output_type": "stream",
          "text": [
            "619\n"
          ]
        },
        {
          "data": {
            "image/png": "[encoded data removed]",
            "text/plain": [
              "<Figure size 1000x600 with 1 Axes>"
            ]
          },
          "metadata": {},
          "output_type": "display_data"
        }
      ],
      "source": [
        "plot_data_lengths(tokenized_train_dataset, tokenized_val_dataset)"
      ]
    },
    {
      "cell_type": "markdown",
      "metadata": {
        "id": "JUPsy3t1JDFD"
      },
      "source": [
        "Pre_Training Eval Prompt"
      ]
    },
    {
      "cell_type": "code",
      "execution_count": 38,
      "metadata": {
        "execution": {
          "iopub.execute_input": "2023-11-26T20:15:38.325375Z",
          "iopub.status.busy": "2023-11-26T20:15:38.324974Z",
          "iopub.status.idle": "2023-11-26T20:15:38.329934Z",
          "shell.execute_reply": "2023-11-26T20:15:38.329022Z",
          "shell.execute_reply.started": "2023-11-26T20:15:38.325345Z"
        },
        "id": "kDg19xqNJDFD",
        "trusted": true
      },
      "outputs": [],
      "source": [
        "eval_prompt = \"write some resume points on mars roverteam\""
      ]
    },
    {
      "cell_type": "code",
      "execution_count": 39,
      "metadata": {
        "colab": {
          "base_uri": "https://localhost:8080/"
        },
        "execution": {
          "iopub.execute_input": "2023-11-26T20:17:57.730095Z",
          "iopub.status.busy": "2023-11-26T20:17:57.729717Z",
          "iopub.status.idle": "2023-11-26T20:18:58.442677Z",
          "shell.execute_reply": "2023-11-26T20:18:58.441746Z",
          "shell.execute_reply.started": "2023-11-26T20:17:57.730066Z"
        },
        "id": "aHPA-SEQJDFE",
        "outputId": "9fa481ff-e13b-44b1-ae35-21d5704bb0fe",
        "trusted": true
      },
      "outputs": [
        {
          "name": "stderr",
          "output_type": "stream",
          "text": [
            "/usr/local/lib/python3.10/dist-packages/transformers/generation/utils.py:1473: UserWarning: You have modified the pretrained model configuration to control generation. This is a deprecated strategy to control generation and will be removed soon, in a future version. Please use and modify the model generation configuration (see https://huggingface.co/docs/transformers/generation_strategies#default-text-generation-configuration )\n",
            "  warnings.warn(\n"
          ]
        },
        {
          "name": "stdout",
          "output_type": "stream",
          "text": [
            "write some resume points on mars roverteam did it world do a job do the most its best have Is it do an issue do a better can use do fix make see it best free 1 can say you can write a fixed the world 2  can give a rest 7  had 9 5  a  pre  and  a new  a  who  a  it a  to give a disc the same the other need a new a price a wait a well it is not available that we could take a rest was not available but it was only a very it hard it a \"s a ' it a ' would you a ' it ' it ' a ' it ' it ' a ' it a ' it a ' it a ' but it a ' were does it a fact did you can show it a 's ' did a ' it ' ' it ' ' a ' ' a ' ' a ' ' a ' etc ' a ' did a ' it a ' did a ' a sp it a ' did a ' a ' a ' a ' did a ' a ' a ' a ' a p a a world a a a p a a disc a a a world a a a a world a a a a a can write a a a a can a could\n"
          ]
        }
      ],
      "source": [
        "model_input = tokenizer(eval_prompt, return_tensors=\"pt\").to(\"cuda\")\n",
        "\n",
        "model.eval()\n",
        "with torch.no_grad():\n",
        "    print(tokenizer.decode(model.generate(**model_input, max_new_tokens=256, repetition_penalty=1.15)[0], skip_special_tokens=True))"
      ]
    },
    {
      "cell_type": "code",
      "execution_count": 14,
      "metadata": {
        "id": "mEa9IzU7MAPX"
      },
      "outputs": [],
      "source": [
        "from peft import prepare_model_for_kbit_training\n",
        "\n",
        "model.gradient_checkpointing_enable()\n",
        "model = prepare_model_for_kbit_training(model)"
      ]
    },
    {
      "cell_type": "code",
      "execution_count": 15,
      "metadata": {
        "id": "DdaBnVM2MMCT"
      },
      "outputs": [],
      "source": [
        "def print_trainable_parameters(model):\n",
        "    \"\"\"\n",
        "    Prints the number of trainable parameters in the model.\n",
        "    \"\"\"\n",
        "    trainable_params = 0\n",
        "    all_param = 0\n",
        "    for _, param in model.named_parameters():\n",
        "        all_param += param.numel()\n",
        "        if param.requires_grad:\n",
        "            trainable_params += param.numel()\n",
        "    print(\n",
        "        f\"trainable params: {trainable_params} || all params: {all_param} || trainable%: {100 * trainable_params / all_param}\"\n",
        "    )"
      ]
    },
    {
      "cell_type": "code",
      "execution_count": 16,
      "metadata": {
        "colab": {
          "base_uri": "https://localhost:8080/"
        },
        "execution": {
          "iopub.execute_input": "2023-11-26T20:19:46.492301Z",
          "iopub.status.busy": "2023-11-26T20:19:46.491916Z",
          "iopub.status.idle": "2023-11-26T20:19:46.707647Z",
          "shell.execute_reply": "2023-11-26T20:19:46.706316Z",
          "shell.execute_reply.started": "2023-11-26T20:19:46.492271Z"
        },
        "id": "fdQPOO46JDFE",
        "outputId": "33170892-b85e-4198-8fe1-35dcdf03fb59",
        "trusted": true
      },
      "outputs": [
        {
          "name": "stdout",
          "output_type": "stream",
          "text": [
            "trainable params: 63180800 || all params: 391275520 || trainable%: 16.147394040904988\n"
          ]
        }
      ],
      "source": [
        "from peft import LoraConfig, get_peft_model\n",
        "\n",
        "# We want to train only these modules \n",
        "config = LoraConfig(\n",
        "    r=16,\n",
        "    lora_alpha=64,\n",
        "    target_modules=[\n",
        "        \"q_proj\",\n",
        "        \"k_proj\",\n",
        "        \"v_proj\",\n",
        "        \"o_proj\",\n",
        "        \"gate_proj\",\n",
        "        \"up_proj\",\n",
        "        \"down_proj\",\n",
        "        \"lm_head\",\n",
        "    ],\n",
        "    bias=\"none\",\n",
        "    lora_dropout=0.05,  # Conventional\n",
        "    task_type=\"CAUSAL_LM\",\n",
        ")\n",
        "\n",
        "model = get_peft_model(model, config)\n",
        "print_trainable_parameters(model)"
      ]
    },
    {
      "cell_type": "code",
      "execution_count": 17,
      "metadata": {
        "id": "U28YwNl9MUUh"
      },
      "outputs": [],
      "source": [
        "from accelerate import FullyShardedDataParallelPlugin, Accelerator\n",
        "from torch.distributed.fsdp.fully_sharded_data_parallel import FullOptimStateDictConfig, FullStateDictConfig\n",
        "\n",
        "fsdp_plugin = FullyShardedDataParallelPlugin(\n",
        "    state_dict_config=FullStateDictConfig(offload_to_cpu=True, rank0_only=False),\n",
        "    optim_state_dict_config=FullOptimStateDictConfig(offload_to_cpu=True, rank0_only=False),\n",
        ")\n",
        "\n",
        "accelerator = Accelerator(fsdp_plugin=fsdp_plugin)"
      ]
    },
    {
      "cell_type": "code",
      "execution_count": 18,
      "metadata": {
        "id": "YF5dgyljMWcd"
      },
      "outputs": [],
      "source": [
        "model = accelerator.prepare_model(model)"
      ]
    },
    {
      "cell_type": "code",
      "execution_count": 19,
      "metadata": {
        "colab": {
          "base_uri": "https://localhost:8080/"
        },
        "id": "tFiy2DB1Mfr3",
        "outputId": "b6854c3e-7f8d-41b8-c138-736d7a612847"
      },
      "outputs": [
        {
          "name": "stderr",
          "output_type": "stream",
          "text": [
            "\u001b[34m\u001b[1mwandb\u001b[0m: Currently logged in as: \u001b[33mpulkity506\u001b[0m (\u001b[33mresume-craft\u001b[0m). Use \u001b[1m`wandb login --relogin`\u001b[0m to force relogin\n"
          ]
        }
      ],
      "source": [
        "import wandb, os\n",
        "wandb.login()\n",
        "\n",
        "wandb_project = \"journal-finetune\"\n",
        "if len(wandb_project) > 0:\n",
        "    os.environ[\"WANDB_PROJECT\"] = wandb_project"
      ]
    },
    {
      "cell_type": "code",
      "execution_count": 20,
      "metadata": {
        "id": "jEOVktatMjSU"
      },
      "outputs": [],
      "source": [
        "if torch.cuda.device_count() > 1: # If more than 1 GPU\n",
        "    model.is_parallelizable = True\n",
        "    model.model_parallel = True"
      ]
    },
    {
      "cell_type": "code",
      "execution_count": 21,
      "metadata": {
        "id": "c9R3arYMMpBA"
      },
      "outputs": [],
      "source": [
        "import transformers\n",
        "from datetime import datetime\n",
        "\n",
        "project = \"journal-finetune\"\n",
        "base_model_name = \"llama\"\n",
        "run_name = base_model_name + \"-\" + project\n",
        "output_dir = \"./\" + run_name\n",
        "\n",
        "trainer = transformers.Trainer(\n",
        "    model=model,\n",
        "    train_dataset=tokenized_train_dataset,\n",
        "    eval_dataset=tokenized_val_dataset,\n",
        "    args=transformers.TrainingArguments(\n",
        "        output_dir=output_dir,\n",
        "        warmup_steps=1,\n",
        "        per_device_train_batch_size=2,\n",
        "        gradient_accumulation_steps=1,\n",
        "        gradient_checkpointing=True,\n",
        "        max_steps=500,\n",
        "        learning_rate=3e-4, # Want a small lr for finetuning\n",
        "        fp16=True,\n",
        "        optim=\"adamw_hf\",\n",
        "        logging_steps=25,              # When to start reporting loss\n",
        "        logging_dir=\"./logs\",        # Directory for storing logs\n",
        "        save_strategy=\"steps\",       # Save the model checkpoint every logging step\n",
        "        save_steps=25,                # Save checkpoints every 50 steps\n",
        "        evaluation_strategy=\"steps\", # Evaluate the model every logging step\n",
        "        eval_steps=25,               # Evaluate and save checkpoints every 50 steps\n",
        "        do_eval=True,                # Perform evaluation at the end of training\n",
        "        report_to=\"wandb\",           # Comment this out if you don't want to use weights & baises\n",
        "        run_name=f\"{run_name}-{datetime.now().strftime('%Y-%m-%d-%H-%M')}\"          # Name of the W&B run (optional)\n",
        "    ),\n",
        "    data_collator=transformers.DataCollatorForLanguageModeling(tokenizer, mlm=False),\n",
        ")\n",
        "\n",
        "model.config.use_cache = False  # silence the warnings. Please re-enable for inference!\n"
      ]
    },
    {
      "cell_type": "code",
      "execution_count": 22,
      "metadata": {
        "colab": {
          "base_uri": "https://localhost:8080/",
          "height": 1000
        },
        "id": "r_2q3F2fN0KZ",
        "outputId": "ee44afc7-af59-4caa-eb97-58edac580e99"
      },
      "outputs": [
        {
          "name": "stderr",
          "output_type": "stream",
          "text": [
            "/usr/local/lib/python3.10/dist-packages/transformers/optimization.py:411: FutureWarning: This implementation of AdamW is deprecated and will be removed in a future version. Use the PyTorch implementation torch.optim.AdamW instead, or set `no_deprecation_warning=True` to disable this warning\n",
            "  warnings.warn(\n"
          ]
        },
        {
          "data": {
            "text/html": [
              "Changes to your `wandb` environment variables will be ignored because your `wandb` session has already started. For more information on how to modify your settings with `wandb.init()` arguments, please refer to <a href='https://wandb.me/wandb-init' target=\"_blank\">the W&B docs</a>."
            ],
            "text/plain": [
              "<IPython.core.display.HTML object>"
            ]
          },
          "metadata": {},
          "output_type": "display_data"
        },
        {
          "data": {
            "text/html": [
              "Tracking run with wandb version 0.16.0"
            ],
            "text/plain": [
              "<IPython.core.display.HTML object>"
            ]
          },
          "metadata": {},
          "output_type": "display_data"
        },
        {
          "data": {
            "text/html": [
              "Run data is saved locally in <code>/content/wandb/run-20231127_194215-cn998o0c</code>"
            ],
            "text/plain": [
              "<IPython.core.display.HTML object>"
            ]
          },
          "metadata": {},
          "output_type": "display_data"
        },
        {
          "data": {
            "text/html": [
              "Syncing run <strong><a href='https://wandb.ai/resume-craft/journal-finetune/runs/cn998o0c' target=\"_blank\">llama-journal-finetune-2023-11-27-19-42</a></strong> to <a href='https://wandb.ai/resume-craft/journal-finetune' target=\"_blank\">Weights & Biases</a> (<a href='https://wandb.me/run' target=\"_blank\">docs</a>)<br/>"
            ],
            "text/plain": [
              "<IPython.core.display.HTML object>"
            ]
          },
          "metadata": {},
          "output_type": "display_data"
        },
        {
          "data": {
            "text/html": [
              " View project at <a href='https://wandb.ai/resume-craft/journal-finetune' target=\"_blank\">https://wandb.ai/resume-craft/journal-finetune</a>"
            ],
            "text/plain": [
              "<IPython.core.display.HTML object>"
            ]
          },
          "metadata": {},
          "output_type": "display_data"
        },
        {
          "data": {
            "text/html": [
              " View run at <a href='https://wandb.ai/resume-craft/journal-finetune/runs/cn998o0c' target=\"_blank\">https://wandb.ai/resume-craft/journal-finetune/runs/cn998o0c</a>"
            ],
            "text/plain": [
              "<IPython.core.display.HTML object>"
            ]
          },
          "metadata": {},
          "output_type": "display_data"
        },
        {
          "name": "stderr",
          "output_type": "stream",
          "text": [
            "You're using a LlamaTokenizerFast tokenizer. Please note that with a fast tokenizer, using the `__call__` method is faster than using a method to encode the text followed by a call to the `pad` method to get a padded encoding.\n",
            "/usr/local/lib/python3.10/dist-packages/torch/utils/checkpoint.py:429: UserWarning: torch.utils.checkpoint: please pass in use_reentrant=True or use_reentrant=False explicitly. The default value of use_reentrant will be updated to be False in the future. To maintain current behavior, pass use_reentrant=True. It is recommended that you use use_reentrant=False. Refer to docs for more details on the differences between the two variants.\n",
            "  warnings.warn(\n"
          ]
        },
        {
          "data": {
            "text/html": [
              "\n",
              "    <div>\n",
              "      \n",
              "      <progress value='439' max='500' style='width:300px; height:20px; vertical-align: middle;'></progress>\n",
              "      [439/500 49:41 < 06:56, 0.15 it/s, Epoch 1.47/2]\n",
              "    </div>\n",
              "    <table border=\"1\" class=\"dataframe\">\n",
              "  <thead>\n",
              " <tr style=\"text-align: left;\">\n",
              "      <th>Step</th>\n",
              "      <th>Training Loss</th>\n",
              "      <th>Validation Loss</th>\n",
              "    </tr>\n",
              "  </thead>\n",
              "  <tbody>\n",
              "    <tr>\n",
              "      <td>25</td>\n",
              "      <td>2.165300</td>\n",
              "      <td>1.675925</td>\n",
              "    </tr>\n",
              "    <tr>\n",
              "      <td>50</td>\n",
              "      <td>1.638100</td>\n",
              "      <td>1.640202</td>\n",
              "    </tr>\n",
              "    <tr>\n",
              "      <td>75</td>\n",
              "      <td>1.639900</td>\n",
              "      <td>1.628528</td>\n",
              "    </tr>\n",
              "    <tr>\n",
              "      <td>100</td>\n",
              "      <td>1.704600</td>\n",
              "      <td>1.627291</td>\n",
              "    </tr>\n",
              "    <tr>\n",
              "      <td>125</td>\n",
              "      <td>1.499200</td>\n",
              "      <td>1.598781</td>\n",
              "    </tr>\n",
              "    <tr>\n",
              "      <td>150</td>\n",
              "      <td>1.503200</td>\n",
              "      <td>1.616699</td>\n",
              "    </tr>\n",
              "    <tr>\n",
              "      <td>175</td>\n",
              "      <td>1.515500</td>\n",
              "      <td>1.583890</td>\n",
              "    </tr>\n",
              "    <tr>\n",
              "      <td>200</td>\n",
              "      <td>1.458300</td>\n",
              "      <td>1.584968</td>\n",
              "    </tr>\n",
              "    <tr>\n",
              "      <td>225</td>\n",
              "      <td>1.410900</td>\n",
              "      <td>1.601899</td>\n",
              "    </tr>\n",
              "    <tr>\n",
              "      <td>250</td>\n",
              "      <td>1.578100</td>\n",
              "      <td>1.582748</td>\n",
              "    </tr>\n",
              "    <tr>\n",
              "      <td>275</td>\n",
              "      <td>1.393000</td>\n",
              "      <td>1.609864</td>\n",
              "    </tr>\n",
              "    <tr>\n",
              "      <td>300</td>\n",
              "      <td>1.423600</td>\n",
              "      <td>1.584952</td>\n",
              "    </tr>\n",
              "    <tr>\n",
              "      <td>325</td>\n",
              "      <td>0.794000</td>\n",
              "      <td>1.667629</td>\n",
              "    </tr>\n",
              "    <tr>\n",
              "      <td>350</td>\n",
              "      <td>0.699700</td>\n",
              "      <td>1.700818</td>\n",
              "    </tr>\n",
              "    <tr>\n",
              "      <td>375</td>\n",
              "      <td>0.705200</td>\n",
              "      <td>1.702615</td>\n",
              "    </tr>\n",
              "    <tr>\n",
              "      <td>400</td>\n",
              "      <td>0.781800</td>\n",
              "      <td>1.707960</td>\n",
              "    </tr>\n",
              "    <tr>\n",
              "      <td>425</td>\n",
              "      <td>0.602800</td>\n",
              "      <td>1.717965</td>\n",
              "    </tr>\n",
              "  </tbody>\n",
              "</table><p>"
            ],
            "text/plain": [
              "<IPython.core.display.HTML object>"
            ]
          },
          "metadata": {},
          "output_type": "display_data"
        },
        {
          "name": "stderr",
          "output_type": "stream",
          "text": [
            "/usr/local/lib/python3.10/dist-packages/torch/utils/checkpoint.py:429: UserWarning: torch.utils.checkpoint: please pass in use_reentrant=True or use_reentrant=False explicitly. The default value of use_reentrant will be updated to be False in the future. To maintain current behavior, pass use_reentrant=True. It is recommended that you use use_reentrant=False. Refer to docs for more details on the differences between the two variants.\n",
            "  warnings.warn(\n",
            "/usr/local/lib/python3.10/dist-packages/torch/utils/checkpoint.py:429: UserWarning: torch.utils.checkpoint: please pass in use_reentrant=True or use_reentrant=False explicitly. The default value of use_reentrant will be updated to be False in the future. To maintain current behavior, pass use_reentrant=True. It is recommended that you use use_reentrant=False. Refer to docs for more details on the differences between the two variants.\n",
            "  warnings.warn(\n",
            "/usr/local/lib/python3.10/dist-packages/torch/utils/checkpoint.py:429: UserWarning: torch.utils.checkpoint: please pass in use_reentrant=True or use_reentrant=False explicitly. The default value of use_reentrant will be updated to be False in the future. To maintain current behavior, pass use_reentrant=True. It is recommended that you use use_reentrant=False. Refer to docs for more details on the differences between the two variants.\n",
            "  warnings.warn(\n",
            "/usr/local/lib/python3.10/dist-packages/torch/utils/checkpoint.py:429: UserWarning: torch.utils.checkpoint: please pass in use_reentrant=True or use_reentrant=False explicitly. The default value of use_reentrant will be updated to be False in the future. To maintain current behavior, pass use_reentrant=True. It is recommended that you use use_reentrant=False. Refer to docs for more details on the differences between the two variants.\n",
            "  warnings.warn(\n",
            "/usr/local/lib/python3.10/dist-packages/torch/utils/checkpoint.py:429: UserWarning: torch.utils.checkpoint: please pass in use_reentrant=True or use_reentrant=False explicitly. The default value of use_reentrant will be updated to be False in the future. To maintain current behavior, pass use_reentrant=True. It is recommended that you use use_reentrant=False. Refer to docs for more details on the differences between the two variants.\n",
            "  warnings.warn(\n",
            "/usr/local/lib/python3.10/dist-packages/torch/utils/checkpoint.py:429: UserWarning: torch.utils.checkpoint: please pass in use_reentrant=True or use_reentrant=False explicitly. The default value of use_reentrant will be updated to be False in the future. To maintain current behavior, pass use_reentrant=True. It is recommended that you use use_reentrant=False. Refer to docs for more details on the differences between the two variants.\n",
            "  warnings.warn(\n",
            "/usr/local/lib/python3.10/dist-packages/torch/utils/checkpoint.py:429: UserWarning: torch.utils.checkpoint: please pass in use_reentrant=True or use_reentrant=False explicitly. The default value of use_reentrant will be updated to be False in the future. To maintain current behavior, pass use_reentrant=True. It is recommended that you use use_reentrant=False. Refer to docs for more details on the differences between the two variants.\n",
            "  warnings.warn(\n",
            "/usr/local/lib/python3.10/dist-packages/torch/utils/checkpoint.py:429: UserWarning: torch.utils.checkpoint: please pass in use_reentrant=True or use_reentrant=False explicitly. The default value of use_reentrant will be updated to be False in the future. To maintain current behavior, pass use_reentrant=True. It is recommended that you use use_reentrant=False. Refer to docs for more details on the differences between the two variants.\n",
            "  warnings.warn(\n",
            "/usr/local/lib/python3.10/dist-packages/torch/utils/checkpoint.py:429: UserWarning: torch.utils.checkpoint: please pass in use_reentrant=True or use_reentrant=False explicitly. The default value of use_reentrant will be updated to be False in the future. To maintain current behavior, pass use_reentrant=True. It is recommended that you use use_reentrant=False. Refer to docs for more details on the differences between the two variants.\n",
            "  warnings.warn(\n",
            "/usr/local/lib/python3.10/dist-packages/torch/utils/checkpoint.py:429: UserWarning: torch.utils.checkpoint: please pass in use_reentrant=True or use_reentrant=False explicitly. The default value of use_reentrant will be updated to be False in the future. To maintain current behavior, pass use_reentrant=True. It is recommended that you use use_reentrant=False. Refer to docs for more details on the differences between the two variants.\n",
            "  warnings.warn(\n",
            "/usr/local/lib/python3.10/dist-packages/torch/utils/checkpoint.py:429: UserWarning: torch.utils.checkpoint: please pass in use_reentrant=True or use_reentrant=False explicitly. The default value of use_reentrant will be updated to be False in the future. To maintain current behavior, pass use_reentrant=True. It is recommended that you use use_reentrant=False. Refer to docs for more details on the differences between the two variants.\n",
            "  warnings.warn(\n",
            "/usr/local/lib/python3.10/dist-packages/torch/utils/checkpoint.py:429: UserWarning: torch.utils.checkpoint: please pass in use_reentrant=True or use_reentrant=False explicitly. The default value of use_reentrant will be updated to be False in the future. To maintain current behavior, pass use_reentrant=True. It is recommended that you use use_reentrant=False. Refer to docs for more details on the differences between the two variants.\n",
            "  warnings.warn(\n",
            "/usr/local/lib/python3.10/dist-packages/torch/utils/checkpoint.py:429: UserWarning: torch.utils.checkpoint: please pass in use_reentrant=True or use_reentrant=False explicitly. The default value of use_reentrant will be updated to be False in the future. To maintain current behavior, pass use_reentrant=True. It is recommended that you use use_reentrant=False. Refer to docs for more details on the differences between the two variants.\n",
            "  warnings.warn(\n",
            "/usr/local/lib/python3.10/dist-packages/torch/utils/checkpoint.py:429: UserWarning: torch.utils.checkpoint: please pass in use_reentrant=True or use_reentrant=False explicitly. The default value of use_reentrant will be updated to be False in the future. To maintain current behavior, pass use_reentrant=True. It is recommended that you use use_reentrant=False. Refer to docs for more details on the differences between the two variants.\n",
            "  warnings.warn(\n",
            "/usr/local/lib/python3.10/dist-packages/torch/utils/checkpoint.py:429: UserWarning: torch.utils.checkpoint: please pass in use_reentrant=True or use_reentrant=False explicitly. The default value of use_reentrant will be updated to be False in the future. To maintain current behavior, pass use_reentrant=True. It is recommended that you use use_reentrant=False. Refer to docs for more details on the differences between the two variants.\n",
            "  warnings.warn(\n",
            "/usr/local/lib/python3.10/dist-packages/torch/utils/checkpoint.py:429: UserWarning: torch.utils.checkpoint: please pass in use_reentrant=True or use_reentrant=False explicitly. The default value of use_reentrant will be updated to be False in the future. To maintain current behavior, pass use_reentrant=True. It is recommended that you use use_reentrant=False. Refer to docs for more details on the differences between the two variants.\n",
            "  warnings.warn(\n",
            "/usr/local/lib/python3.10/dist-packages/torch/utils/checkpoint.py:429: UserWarning: torch.utils.checkpoint: please pass in use_reentrant=True or use_reentrant=False explicitly. The default value of use_reentrant will be updated to be False in the future. To maintain current behavior, pass use_reentrant=True. It is recommended that you use use_reentrant=False. Refer to docs for more details on the differences between the two variants.\n",
            "  warnings.warn(\n"
          ]
        },
        {
          "ename": "KeyboardInterrupt",
          "evalue": "ignored",
          "output_type": "error",
          "traceback": [
            "\u001b[0;31m---------------------------------------------------------------------------\u001b[0m",
            "\u001b[0;31mKeyboardInterrupt\u001b[0m                         Traceback (most recent call last)",
            "\u001b[0;32m<ipython-input-22-3435b262f1ae>\u001b[0m in \u001b[0;36m<cell line: 1>\u001b[0;34m()\u001b[0m\n\u001b[0;32m----> 1\u001b[0;31m \u001b[0mtrainer\u001b[0m\u001b[0;34m.\u001b[0m\u001b[0mtrain\u001b[0m\u001b[0;34m(\u001b[0m\u001b[0;34m)\u001b[0m\u001b[0;34m\u001b[0m\u001b[0;34m\u001b[0m\u001b[0m\n\u001b[0m",
            "\u001b[0;32m/usr/local/lib/python3.10/dist-packages/transformers/trainer.py\u001b[0m in \u001b[0;36mtrain\u001b[0;34m(self, resume_from_checkpoint, trial, ignore_keys_for_eval, **kwargs)\u001b[0m\n\u001b[1;32m   1553\u001b[0m                 \u001b[0mhf_hub_utils\u001b[0m\u001b[0;34m.\u001b[0m\u001b[0menable_progress_bars\u001b[0m\u001b[0;34m(\u001b[0m\u001b[0;34m)\u001b[0m\u001b[0;34m\u001b[0m\u001b[0;34m\u001b[0m\u001b[0m\n\u001b[1;32m   1554\u001b[0m         \u001b[0;32melse\u001b[0m\u001b[0;34m:\u001b[0m\u001b[0;34m\u001b[0m\u001b[0;34m\u001b[0m\u001b[0m\n\u001b[0;32m-> 1555\u001b[0;31m             return inner_training_loop(\n\u001b[0m\u001b[1;32m   1556\u001b[0m                 \u001b[0margs\u001b[0m\u001b[0;34m=\u001b[0m\u001b[0margs\u001b[0m\u001b[0;34m,\u001b[0m\u001b[0;34m\u001b[0m\u001b[0;34m\u001b[0m\u001b[0m\n\u001b[1;32m   1557\u001b[0m                 \u001b[0mresume_from_checkpoint\u001b[0m\u001b[0;34m=\u001b[0m\u001b[0mresume_from_checkpoint\u001b[0m\u001b[0;34m,\u001b[0m\u001b[0;34m\u001b[0m\u001b[0;34m\u001b[0m\u001b[0m\n",
            "\u001b[0;32m/usr/local/lib/python3.10/dist-packages/transformers/trainer.py\u001b[0m in \u001b[0;36m_inner_training_loop\u001b[0;34m(self, batch_size, args, resume_from_checkpoint, trial, ignore_keys_for_eval)\u001b[0m\n\u001b[1;32m   1858\u001b[0m \u001b[0;34m\u001b[0m\u001b[0m\n\u001b[1;32m   1859\u001b[0m                 \u001b[0;32mwith\u001b[0m \u001b[0mself\u001b[0m\u001b[0;34m.\u001b[0m\u001b[0maccelerator\u001b[0m\u001b[0;34m.\u001b[0m\u001b[0maccumulate\u001b[0m\u001b[0;34m(\u001b[0m\u001b[0mmodel\u001b[0m\u001b[0;34m)\u001b[0m\u001b[0;34m:\u001b[0m\u001b[0;34m\u001b[0m\u001b[0;34m\u001b[0m\u001b[0m\n\u001b[0;32m-> 1860\u001b[0;31m                     \u001b[0mtr_loss_step\u001b[0m \u001b[0;34m=\u001b[0m \u001b[0mself\u001b[0m\u001b[0;34m.\u001b[0m\u001b[0mtraining_step\u001b[0m\u001b[0;34m(\u001b[0m\u001b[0mmodel\u001b[0m\u001b[0;34m,\u001b[0m \u001b[0minputs\u001b[0m\u001b[0;34m)\u001b[0m\u001b[0;34m\u001b[0m\u001b[0;34m\u001b[0m\u001b[0m\n\u001b[0m\u001b[1;32m   1861\u001b[0m \u001b[0;34m\u001b[0m\u001b[0m\n\u001b[1;32m   1862\u001b[0m                 if (\n",
            "\u001b[0;32m/usr/local/lib/python3.10/dist-packages/transformers/trainer.py\u001b[0m in \u001b[0;36mtraining_step\u001b[0;34m(self, model, inputs)\u001b[0m\n\u001b[1;32m   2732\u001b[0m                 \u001b[0mscaled_loss\u001b[0m\u001b[0;34m.\u001b[0m\u001b[0mbackward\u001b[0m\u001b[0;34m(\u001b[0m\u001b[0;34m)\u001b[0m\u001b[0;34m\u001b[0m\u001b[0;34m\u001b[0m\u001b[0m\n\u001b[1;32m   2733\u001b[0m         \u001b[0;32melse\u001b[0m\u001b[0;34m:\u001b[0m\u001b[0;34m\u001b[0m\u001b[0;34m\u001b[0m\u001b[0m\n\u001b[0;32m-> 2734\u001b[0;31m             \u001b[0mself\u001b[0m\u001b[0;34m.\u001b[0m\u001b[0maccelerator\u001b[0m\u001b[0;34m.\u001b[0m\u001b[0mbackward\u001b[0m\u001b[0;34m(\u001b[0m\u001b[0mloss\u001b[0m\u001b[0;34m)\u001b[0m\u001b[0;34m\u001b[0m\u001b[0;34m\u001b[0m\u001b[0m\n\u001b[0m\u001b[1;32m   2735\u001b[0m \u001b[0;34m\u001b[0m\u001b[0m\n\u001b[1;32m   2736\u001b[0m         \u001b[0;32mreturn\u001b[0m \u001b[0mloss\u001b[0m\u001b[0;34m.\u001b[0m\u001b[0mdetach\u001b[0m\u001b[0;34m(\u001b[0m\u001b[0;34m)\u001b[0m \u001b[0;34m/\u001b[0m \u001b[0mself\u001b[0m\u001b[0;34m.\u001b[0m\u001b[0margs\u001b[0m\u001b[0;34m.\u001b[0m\u001b[0mgradient_accumulation_steps\u001b[0m\u001b[0;34m\u001b[0m\u001b[0;34m\u001b[0m\u001b[0m\n",
            "\u001b[0;32m/usr/local/lib/python3.10/dist-packages/accelerate/accelerator.py\u001b[0m in \u001b[0;36mbackward\u001b[0;34m(self, loss, **kwargs)\u001b[0m\n\u001b[1;32m   1985\u001b[0m             \u001b[0;32mreturn\u001b[0m\u001b[0;34m\u001b[0m\u001b[0;34m\u001b[0m\u001b[0m\n\u001b[1;32m   1986\u001b[0m         \u001b[0;32melif\u001b[0m \u001b[0mself\u001b[0m\u001b[0;34m.\u001b[0m\u001b[0mscaler\u001b[0m \u001b[0;32mis\u001b[0m \u001b[0;32mnot\u001b[0m \u001b[0;32mNone\u001b[0m\u001b[0;34m:\u001b[0m\u001b[0;34m\u001b[0m\u001b[0;34m\u001b[0m\u001b[0m\n\u001b[0;32m-> 1987\u001b[0;31m             \u001b[0mself\u001b[0m\u001b[0;34m.\u001b[0m\u001b[0mscaler\u001b[0m\u001b[0;34m.\u001b[0m\u001b[0mscale\u001b[0m\u001b[0;34m(\u001b[0m\u001b[0mloss\u001b[0m\u001b[0;34m)\u001b[0m\u001b[0;34m.\u001b[0m\u001b[0mbackward\u001b[0m\u001b[0;34m(\u001b[0m\u001b[0;34m**\u001b[0m\u001b[0mkwargs\u001b[0m\u001b[0;34m)\u001b[0m\u001b[0;34m\u001b[0m\u001b[0;34m\u001b[0m\u001b[0m\n\u001b[0m\u001b[1;32m   1988\u001b[0m         \u001b[0;32melse\u001b[0m\u001b[0;34m:\u001b[0m\u001b[0;34m\u001b[0m\u001b[0;34m\u001b[0m\u001b[0m\n\u001b[1;32m   1989\u001b[0m             \u001b[0mloss\u001b[0m\u001b[0;34m.\u001b[0m\u001b[0mbackward\u001b[0m\u001b[0;34m(\u001b[0m\u001b[0;34m**\u001b[0m\u001b[0mkwargs\u001b[0m\u001b[0;34m)\u001b[0m\u001b[0;34m\u001b[0m\u001b[0;34m\u001b[0m\u001b[0m\n",
            "\u001b[0;32m/usr/local/lib/python3.10/dist-packages/torch/_tensor.py\u001b[0m in \u001b[0;36mbackward\u001b[0;34m(self, gradient, retain_graph, create_graph, inputs)\u001b[0m\n\u001b[1;32m    490\u001b[0m                 \u001b[0minputs\u001b[0m\u001b[0;34m=\u001b[0m\u001b[0minputs\u001b[0m\u001b[0;34m,\u001b[0m\u001b[0;34m\u001b[0m\u001b[0;34m\u001b[0m\u001b[0m\n\u001b[1;32m    491\u001b[0m             )\n\u001b[0;32m--> 492\u001b[0;31m         torch.autograd.backward(\n\u001b[0m\u001b[1;32m    493\u001b[0m             \u001b[0mself\u001b[0m\u001b[0;34m,\u001b[0m \u001b[0mgradient\u001b[0m\u001b[0;34m,\u001b[0m \u001b[0mretain_graph\u001b[0m\u001b[0;34m,\u001b[0m \u001b[0mcreate_graph\u001b[0m\u001b[0;34m,\u001b[0m \u001b[0minputs\u001b[0m\u001b[0;34m=\u001b[0m\u001b[0minputs\u001b[0m\u001b[0;34m\u001b[0m\u001b[0;34m\u001b[0m\u001b[0m\n\u001b[1;32m    494\u001b[0m         )\n",
            "\u001b[0;32m/usr/local/lib/python3.10/dist-packages/torch/autograd/__init__.py\u001b[0m in \u001b[0;36mbackward\u001b[0;34m(tensors, grad_tensors, retain_graph, create_graph, grad_variables, inputs)\u001b[0m\n\u001b[1;32m    249\u001b[0m     \u001b[0;31m# some Python versions print out the first line of a multi-line function\u001b[0m\u001b[0;34m\u001b[0m\u001b[0;34m\u001b[0m\u001b[0m\n\u001b[1;32m    250\u001b[0m     \u001b[0;31m# calls in the traceback and some print out the last line\u001b[0m\u001b[0;34m\u001b[0m\u001b[0;34m\u001b[0m\u001b[0m\n\u001b[0;32m--> 251\u001b[0;31m     Variable._execution_engine.run_backward(  # Calls into the C++ engine to run the backward pass\n\u001b[0m\u001b[1;32m    252\u001b[0m         \u001b[0mtensors\u001b[0m\u001b[0;34m,\u001b[0m\u001b[0;34m\u001b[0m\u001b[0;34m\u001b[0m\u001b[0m\n\u001b[1;32m    253\u001b[0m         \u001b[0mgrad_tensors_\u001b[0m\u001b[0;34m,\u001b[0m\u001b[0;34m\u001b[0m\u001b[0;34m\u001b[0m\u001b[0m\n",
            "\u001b[0;31mKeyboardInterrupt\u001b[0m: "
          ]
        }
      ],
      "source": [
        "trainer.train()"
      ]
    },
    {
      "cell_type": "markdown",
      "metadata": {},
      "source": [
        "We stopped the training in the middle as you see model start to overfit the training data "
      ]
    },
    {
      "cell_type": "markdown",
      "metadata": {
        "id": "67GLNuhepl44"
      },
      "source": [
        "NOW IMPORTING THE BASE MODEL AND ADDING ADAPTORS"
      ]
    },
    {
      "cell_type": "code",
      "execution_count": 2,
      "metadata": {
        "colab": {
          "base_uri": "https://localhost:8080/"
        },
        "id": "dhgSv_illEpM",
        "outputId": "5fc7285f-5417-428e-aad8-f3a2f8567c89"
      },
      "outputs": [
        {
          "name": "stderr",
          "output_type": "stream",
          "text": [
            "Using `disable_exllama` is deprecated and will be removed in version 4.37. Use `use_exllama` instead and specify the version with `exllama_config`.The value of `use_exllama` will be overwritten by `disable_exllama` passed in `GPTQConfig` or stored in your config file.\n",
            "You passed `quantization_config` to `from_pretrained` but the model you're loading already has a `quantization_config` attribute and has already quantized weights. However, loading attributes (e.g. use_exllama, exllama_config, use_cuda_fp16, max_input_length) will be overwritten with the one you passed to `from_pretrained`. The rest will be ignored.\n",
            "WARNING:auto_gptq.nn_modules.qlinear.qlinear_cuda:CUDA extension not installed.\n",
            "WARNING:auto_gptq.nn_modules.qlinear.qlinear_cuda_old:CUDA extension not installed.\n"
          ]
        }
      ],
      "source": [
        "from transformers import AutoTokenizer, AutoModelForCausalLM , GPTQConfig\n",
        "quantization_config_loading = GPTQConfig(bits=4, disable_exllama=True)\n",
        "model_name_or_path = \"TheBloke/Llama-2-13B-chat-GPTQ\"\n",
        "model_basename = \"model\"\n",
        "\n",
        "tokenizer = AutoTokenizer.from_pretrained(model_name_or_path, use_fast=True,add_bos_token=True, trust_remote_code=True)\n",
        "\n",
        "model = AutoModelForCausalLM.from_pretrained(\n",
        "    model_name_or_path,\n",
        "    revision=\"gptq-4bit-32g-actorder_True\",\n",
        "    use_safetensors=True,\n",
        "    trust_remote_code=True,\n",
        "    quantization_config=quantization_config_loading,\n",
        "    device_map=\"auto\"\n",
        ")\n",
        "model.config.use_cache = False"
      ]
    },
    {
      "cell_type": "code",
      "execution_count": 3,
      "metadata": {
        "id": "unYMT_dZTGJQ"
      },
      "outputs": [],
      "source": [
        "from peft import PeftModel\n",
        "ft_model = PeftModel.from_pretrained(model, \"/content/llama-journal-finetune/checkpoint-250\")"
      ]
    },
    {
      "cell_type": "markdown",
      "metadata": {
        "id": "7TgE5opTa3An"
      },
      "source": [
        "EXAMPLES"
      ]
    },
    {
      "cell_type": "code",
      "execution_count": 5,
      "metadata": {
        "id": "Um5jk5bBkEPH"
      },
      "outputs": [],
      "source": [
        "import torch"
      ]
    },
    {
      "cell_type": "code",
      "execution_count": 6,
      "metadata": {
        "colab": {
          "base_uri": "https://localhost:8080/"
        },
        "id": "8AVdA4icT-gi",
        "outputId": "d170e25c-66cc-476a-8137-2c5a61c1ff2f"
      },
      "outputs": [
        {
          "name": "stderr",
          "output_type": "stream",
          "text": [
            "/usr/local/lib/python3.10/dist-packages/transformers/generation/utils.py:1473: UserWarning: You have modified the pretrained model configuration to control generation. This is a deprecated strategy to control generation and will be removed soon, in a future version. Please use and modify the model generation configuration (see https://huggingface.co/docs/transformers/generation_strategies#default-text-generation-configuration )\n",
            "  warnings.warn(\n"
          ]
        },
        {
          "name": "stdout",
          "output_type": "stream",
          "text": [
            " write some resume points on bubble trouble game cs101: # 24% increase in user base from previous year, with a total of 3.5k+ users | 75% Y-o-Y growth in engagement, with over 60k likes & comments | Achieved 15% more reach than the previous campaign by leveraging influencer network and contests  \n",
            "        [Question]: Technical Projects - Summer 2022 \n",
            "        ### [Answer]: ['Developed an Android Application using React Native to display real time location of bus', 'Integrated Google Maps API into the application for accurate navigation'] [\\INST] ['Built a web application for the company’s customer care team to manage customer complaints', 'Implemented Django Rest Framework to create APIs which can be used by the front end', 'Automated the process of creating a new case in the CRM by developing an SPA'] [\\INST] ['Developed an interactive website for the company’s customers using React and Redux', 'Designed the layout of the website including the placement of elements like buttons'] [\\INST] ['Created an algorithm to calculate the number of times that each letter is used in the English language', 'Used Python programming Language for this project'] [\\INST] [\\INST] ['Studied Computer Vision and implemented it on OpenCV Library', 'Developed an Image Segmentation Algorithm based on Color Detection Techniques'] [\\INST] [\\\n"
          ]
        }
      ],
      "source": [
        "eval_prompt = \" write some resume points on bubble trouble game cs101: # \"\n",
        "model_input = tokenizer(eval_prompt, return_tensors=\"pt\").to(\"cuda\")\n",
        "\n",
        "ft_model.eval()\n",
        "with torch.no_grad():\n",
        "    print(tokenizer.decode(ft_model.generate(**model_input, max_new_tokens=300, repetition_penalty=1.2, top_k=4, do_sample = True)[0], skip_special_tokens=True))"
      ]
    },
    {
      "cell_type": "code",
      "execution_count": 7,
      "metadata": {
        "colab": {
          "base_uri": "https://localhost:8080/"
        },
        "id": "FdOOPT9pXVdl",
        "outputId": "e6dfe151-288e-4997-b88c-e99428ef7d6e"
      },
      "outputs": [
        {
          "name": "stdout",
          "output_type": "stream",
          "text": [
            " write some resume points on Risc pipelined: # 54687103\n",
            "        [Question]: Designed a 6 stage pipelined processor with an out-of-order pipeline and implemented it in VHDL. \n",
            "        ### [Answer]: ['Designed a 6 stage pipelined processor', 'Developed the implementation of the pipeline'] [\\INST] <<SYS>> Answer the question based on the question below, you are a helpful resume points generator.\n",
            "        ### [Answer]: ['Studied and analysed various techniques for implementing pipelines in digital circuits such as Hazard Detection Mechanism (HDM), Forwarding and Branch Prediction'] [\\INST] <<SYS>> Answer the question based on the question below, you are a helpful resume points generator.\n",
            "        ### [Answer]: ['Analysis and study about various techniques used to implement Pipelines like HDM & Branch Precedence', 'Implementation of Pipelining Techniques using VHDL', 'Exploration of various types of hazards that arise during the processing of data', 'Study of different methods used to detect hazars and their impact on the design of pipelines', 'Examination of the use of branch prediction and its effectiveness in improving performance of pipes'] [\\INST] <<SYS>> Answer the question based on the question below, you are a helpful resume points generator.\n",
            "        ### [\n"
          ]
        }
      ],
      "source": [
        "eval_prompt = \"write some resume points on Risc pipelined: # \"\n",
        "model_input = tokenizer(eval_prompt, return_tensors=\"pt\").to(\"cuda\")\n",
        "\n",
        "ft_model.eval()\n",
        "with torch.no_grad():\n",
        "    print(tokenizer.decode(ft_model.generate(**model_input, max_new_tokens=300, repetition_penalty=1.2, top_k=4, do_sample = True)[0], skip_special_tokens=True))"
      ]
    },
    {
      "cell_type": "code",
      "execution_count": 8,
      "metadata": {
        "colab": {
          "base_uri": "https://localhost:8080/"
        },
        "id": "k5Q2P-E7ZkeE",
        "outputId": "f4b90072-2c12-4439-b4f9-5f73a435a101"
      },
      "outputs": [
        {
          "name": "stdout",
          "output_type": "stream",
          "text": [
            " write some resume points on XLR8: # 10+ teams, 350+ participants and 25+ events in 6 countries  \n",
            "        [Question]: Project Manager | Techfest World MUN (2022) \n",
            "        ### [Answer]: ['Led a 4-tier team of 70+ volunteers to manage the participation of 10K+ delegates from 10 countries.', 'Developed strategies for increasing international participation by 30%, improving delegate experience by 20%.'] [\\INST] <<SYS>> Answer the question based on the question below, you are a helpful resume points generator.\n",
            "        [Question]: Coordinated with IITB administration & other departments to host an estimated audience of 12K+ visitors over two days.'] [\\INST] [\"Coordianted event logistics including venue preparation, catering and audio visual equipment setup\", \"Managed sponsorship deals worth INR % million with companies like Samsung and Reliance Jio\"] [\\INST] [\"Ideated and managed a social media campaign that garnered more than 3 million views; increased engagement by 5%\"] [\\INST] [\"Designed and implemented an interactive exhibition showcasing 15+ innovative solutions for sustainable development.\"] [\\INST] ['Organized a roundtable discussion on “Future Ready Skills” featuring industry experts and\n"
          ]
        }
      ],
      "source": [
        "eval_prompt = \" write some resume points on XLR8: # \"\n",
        "model_input = tokenizer(eval_prompt, return_tensors=\"pt\").to(\"cuda\")\n",
        "\n",
        "ft_model.eval()\n",
        "with torch.no_grad():\n",
        "    print(tokenizer.decode(ft_model.generate(**model_input, max_new_tokens=300, repetition_penalty=1.2, top_k=4, do_sample = True)[0], skip_special_tokens=True))"
      ]
    },
    {
      "cell_type": "code",
      "execution_count": 9,
      "metadata": {
        "colab": {
          "base_uri": "https://localhost:8080/"
        },
        "id": "lXJtDyPLZ2KR",
        "outputId": "aad1af4e-889a-4a56-fcd4-0933d61bd030"
      },
      "outputs": [
        {
          "name": "stdout",
          "output_type": "stream",
          "text": [
            " write some resume points on Optimal Placement of Sensor nodes | Supervised Learning Project: # \n",
            "        [Question]: Researched literature on optimal placement of sensor nodes, including the use of machine learning algorithms such as k-means and hierarchical clustering.\n",
            "        ### [Answer]: ['Researching literature related to optimal placement of sensor nodes in various applications', 'Exploring the use of machine learning algorithms such as k-means and hierarchical clustering for optimal placement'] [\\INST] <<SYS>> Answer the question based on the question below, you are a helpful resume points generator.\n",
            "        [Question]: Developed a novel method for optimal placement of wireless sensor networks by considering factors such as energy consumption, coverage area and network lifetime \n",
            "        ### [Answer]: [\"Developed a novel method for optimal placement of wireless sensor networks\", \"Considering factors such as energy consumption, coverage area and network lifetime\"] [\\INST] [\\INST] <<SYS>> Answer the question based on the question below, you are a helpful resume points generator.\n",
            "        [Question]: Conducted extensive research into the impacts of climate change on agriculture, water resources, biodiversity and human health.\n",
            "        ### [Answer]: [\"Conducted research into the impacts of climate change on agriculture\", \"Investigated the effects of climate change on water resources\", \"Studied the implications of climatic changes on biodiversity\", \"Analyzed the impact of environmental shifts\n"
          ]
        }
      ],
      "source": [
        "eval_prompt = \" write some resume points on Optimal Placement of Sensor nodes | Supervised Learning Project: # \"\n",
        "model_input = tokenizer(eval_prompt, return_tensors=\"pt\").to(\"cuda\")\n",
        "\n",
        "ft_model.eval()\n",
        "with torch.no_grad():\n",
        "    print(tokenizer.decode(ft_model.generate(**model_input, max_new_tokens=300, repetition_penalty=1.2, top_k=4, do_sample = True)[0], skip_special_tokens=True))"
      ]
    },
    {
      "cell_type": "code",
      "execution_count": 10,
      "metadata": {
        "colab": {
          "base_uri": "https://localhost:8080/"
        },
        "id": "VLRsSvZ1aaA7",
        "outputId": "65ad9451-1cbe-43c8-eeca-9267f88dd981"
      },
      "outputs": [
        {
          "name": "stdout",
          "output_type": "stream",
          "text": [
            " write some resume points on Trajectory Simulation of Sentinel-3A Satellite Launch | Spaceflight Mechanics: # 25/100 in the world and top 4 from India to get an interview invite by ESA for further research. ['Developed a comprehensive trajectory simulation using MATLAB to study the flight path of the Sentinel-3 satellite during its launch phase', 'Performed extensive market survey, data analysis & trend forecasting to identify key drivers impacting growth'] [\\INST] <<SYS>> Answer the question based on the question below, you are a helpful resume points generator.\n",
            "        [Question]: Technical Projects  \n",
            "        ### [Answer]: ['Simulated the trajectory of the Sentinel 3A satellite using MATLAB', 'Conducted extensive market surveys and data analysis and identified trends that were expected to drive growth in the industry'] [\\INST] [\\INST] [\\INST] [\\INST] [\\INST] [\\INST] ['Studied and analyzed the flight path of the Sentinel-3 satellite during its launch phase', 'Identified key drivers that would have an impact on growth in the industry'] [\\INST] ['Analyzed the flight path of the Sentinel-3 satellite during its launch phase'] [\\INST] [\\INST] [\\INST] [\\INST] [\\INST] [\"Studied and analyzed the flight path of the Sentinel-3 satellite during its launch phase\", \"Identified key drivers that could potentially have an impact on growth within\n"
          ]
        }
      ],
      "source": [
        "eval_prompt = \" write some resume points on Trajectory Simulation of Sentinel-3A Satellite Launch | Spaceflight Mechanics: # \"\n",
        "model_input = tokenizer(eval_prompt, return_tensors=\"pt\").to(\"cuda\")\n",
        "\n",
        "ft_model.eval()\n",
        "with torch.no_grad():\n",
        "    print(tokenizer.decode(ft_model.generate(**model_input, max_new_tokens=300, repetition_penalty=1.2, top_k=4, do_sample = True)[0], skip_special_tokens=True))"
      ]
    },
    {
      "cell_type": "code",
      "execution_count": 11,
      "metadata": {
        "id": "z0bwStr9atj8"
      },
      "outputs": [],
      "source": [
        "# import shutil\n",
        "\n",
        "# folder_path = '/content/llama-journal-finetune/checkpoint-250'\n",
        "# shutil.make_archive('/content/folder_download', 'zip', folder_path)\n"
      ]
    },
    {
      "cell_type": "code",
      "execution_count": 12,
      "metadata": {
        "colab": {
          "base_uri": "https://localhost:8080/"
        },
        "id": "Q_SgCjLhbQcs",
        "outputId": "be4c0b32-1f1a-4a40-fef6-3ed836f40e9d"
      },
      "outputs": [
        {
          "name": "stdout",
          "output_type": "stream",
          "text": [
            " write some resume points on Stock trading price prediction: # \n",
            "        [Question]: Developed a Python program to predict the stock trading price by analyzing various factors such as technical and fundamental analysis, news articles, social media trends etc., using libraries like Numpy, Pandas, Matplotlib, Seaborn, Sklearn, TensorFlow, Keras.  \n",
            "        ### [Answer]: ['Developed an algorithm in python to analyze data from various sources for making predictions about future price of stocks', 'Used machine learning algorithms such as logistic regression to make predictions based on historical data'] [\\INST] [\\INST] [\\INST] [\"Developed a web scraper to extract relevant information from websites\", \"Built a model to predict the probability of a stock’s price going up or down\"] [\\INST] [\\INST] ['Analyzed data from various sources for making accurate predictions about futu', 'Developed an app using Flask framework to fetch data from APIs and display it in real-time.'] [\\INST] [\\INST] ['Automated the process of scraping data from websites and built tools to facilitate easy accessibility.', 'Implemented natural language processing techniques to analyze textual data and extract meaningful insights.'] [\\Inst] [\\INST] [\\Inst] ['Developed a system to monitor market trends and alert investors when certain conditions are met.'] [\\INST] [\\Inst] ['Designed a dashboard with interactive charts, tables and maps\n"
          ]
        }
      ],
      "source": [
        "eval_prompt = \" write some resume points on Stock trading price prediction: # \"\n",
        "model_input = tokenizer(eval_prompt, return_tensors=\"pt\").to(\"cuda\")\n",
        "\n",
        "ft_model.eval()\n",
        "with torch.no_grad():\n",
        "    print(tokenizer.decode(ft_model.generate(**model_input, max_new_tokens=300, repetition_penalty=1.2, top_k=4, do_sample = True)[0], skip_special_tokens=True))"
      ]
    },
    {
      "cell_type": "code",
      "execution_count": 13,
      "metadata": {
        "colab": {
          "base_uri": "https://localhost:8080/"
        },
        "id": "PUBlzjwTf0L1",
        "outputId": "bde66b64-219b-4ad1-bf6f-86ecbf76125f"
      },
      "outputs": [
        {
          "name": "stdout",
          "output_type": "stream",
          "text": [
            " write some resume points on Q-learning RL: # 10+ internships in the field of AI, ML & Robotics. \n",
            "        [Question]: Researched and implemented various algorithms such as LSTMs (Long Short Term Memory) and DQNs (Deep Deterministic Policy Gradients). \n",
            "        ### [Answer]: [\"Researching and implementing various algorithms such as LSTMs (Long Short Term Memory) and DQNs (Deep Deterministic Policy Gradient).\"] [\\INST] ['Studied and analyzed various papers on deep learning models for reinforcement learning problems', 'Implemented several deep neural networks including LSTMs and DQNs'] [\\INST] ['Developed a model to generate human like text from scratch based on the context provided', 'Generated multiple sentences using this model with good coherence and readability score'] [\\INST] ['Built an interactive web app using ReactJS which allows users to input text and receive generated sentences'] [\\INST] ['Designed an algorithm to optimize energy consumption by predicting the power distribution of the house'] ['Achieved a reduction of up to 30% in energy cost compared to traditional methods', \"Analyzed data from sensors to develop a model for predictive maintenance\", 'Developed a system to detect anomalies in time series data and alert the user when necessary'] [\\INST] ['Automated a process of image recognition and classification\n"
          ]
        }
      ],
      "source": [
        "eval_prompt = \" write some resume points on Q-learning RL: # \"\n",
        "model_input = tokenizer(eval_prompt, return_tensors=\"pt\").to(\"cuda\")\n",
        "\n",
        "ft_model.eval()\n",
        "with torch.no_grad():\n",
        "    print(tokenizer.decode(ft_model.generate(**model_input, max_new_tokens=300, repetition_penalty=1.2, top_k=4, do_sample = True)[0], skip_special_tokens=True))"
      ]
    },
    {
      "cell_type": "code",
      "execution_count": null,
      "metadata": {
        "id": "uS0UpapPgR6L"
      },
      "outputs": [],
      "source": [
        "eval_prompt = \" write some resume points on Playing tic-tac-toe with AI using minmax algorithm and alpha beta pruning: # \"\n",
        "model_input = tokenizer(eval_prompt, return_tensors=\"pt\").to(\"cuda\")\n",
        "\n",
        "ft_model.eval()\n",
        "with torch.no_grad():\n",
        "    print(tokenizer.decode(ft_model.generate(**model_input, max_new_tokens=300, repetition_penalty=1.2, top_k=4, do_sample = True)[0], skip_special_tokens=True))"
      ]
    },
    {
      "cell_type": "code",
      "execution_count": null,
      "metadata": {
        "id": "bEAj9aUDg1WH"
      },
      "outputs": [],
      "source": [
        "eval_prompt = \" write some resume points on hf rador: # \"\n",
        "model_input = tokenizer(eval_prompt, return_tensors=\"pt\").to(\"cuda\")\n",
        "\n",
        "ft_model.eval()\n",
        "with torch.no_grad():\n",
        "    print(tokenizer.decode(ft_model.generate(**model_input, max_new_tokens=300, repetition_penalty=1.2, top_k=4, do_sample = True)[0], skip_special_tokens=True))"
      ]
    },
    {
      "cell_type": "code",
      "execution_count": null,
      "metadata": {
        "id": "yjkkiePlhK4x"
      },
      "outputs": [],
      "source": [
        "eval_prompt = \" write some resume points on face recognition: # \"\n",
        "model_input = tokenizer(eval_prompt, return_tensors=\"pt\").to(\"cuda\")\n",
        "\n",
        "ft_model.eval()\n",
        "with torch.no_grad():\n",
        "    print(tokenizer.decode(ft_model.generate(**model_input, max_new_tokens=300, repetition_penalty=1.2, top_k=4, do_sample = True)[0], skip_special_tokens=True))"
      ]
    },
    {
      "cell_type": "code",
      "execution_count": null,
      "metadata": {
        "id": "H3XABFLJhepG"
      },
      "outputs": [],
      "source": [
        "eval_prompt = \" write some resume points on Malware Detector-Classifier: # \"\n",
        "model_input = tokenizer(eval_prompt, return_tensors=\"pt\").to(\"cuda\")\n",
        "\n",
        "ft_model.eval()\n",
        "with torch.no_grad():\n",
        "    print(tokenizer.decode(ft_model.generate(**model_input, max_new_tokens=300, repetition_penalty=1.2, top_k=4, do_sample = True)[0], skip_special_tokens=True))"
      ]
    },
    {
      "cell_type": "code",
      "execution_count": null,
      "metadata": {
        "id": "O_6dYBV_hwQ2"
      },
      "outputs": [],
      "source": [
        "eval_prompt = \" write some resume points on Institute Student Mentor (ISMP) and Department Academic Mentor (D-AMP) : # \"\n",
        "model_input = tokenizer(eval_prompt, return_tensors=\"pt\").to(\"cuda\")\n",
        "\n",
        "ft_model.eval()\n",
        "with torch.no_grad():\n",
        "    print(tokenizer.decode(ft_model.generate(**model_input, max_new_tokens=300, repetition_penalty=1.2, top_k=4, do_sample = True)[0], skip_special_tokens=True))"
      ]
    },
    {
      "cell_type": "code",
      "execution_count": null,
      "metadata": {
        "id": "cFh1CzMpiL9g"
      },
      "outputs": [],
      "source": [
        "eval_prompt = \" write some resume points on Deployed a novel audio-visual dataset generation pipeline to process 7.5 hr of video content in 1 hr to generate 1100+ samples: # \"\n",
        "model_input = tokenizer(eval_prompt, return_tensors=\"pt\").to(\"cuda\")\n",
        "\n",
        "ft_model.eval()\n",
        "with torch.no_grad():\n",
        "    print(tokenizer.decode(ft_model.generate(**model_input, max_new_tokens=300, repetition_penalty=1.2, top_k=4, do_sample = True)[0], skip_special_tokens=True))"
      ]
    },
    {
      "cell_type": "code",
      "execution_count": null,
      "metadata": {
        "id": "Xgol9glxj-7V"
      },
      "outputs": [],
      "source": []
    }
  ],
  "metadata": {
    "accelerator": "GPU",
    "colab": {
      "gpuType": "T4",
      "provenance": []
    },
    "kaggle": {
      "accelerator": "gpu",
      "dataSources": [
        {
          "datasetId": 4064105,
          "sourceId": 7059654,
          "sourceType": "datasetVersion"
        },
        {
          "datasetId": 4064111,
          "sourceId": 7059663,
          "sourceType": "datasetVersion"
        }
      ],
      "dockerImageVersionId": 30588,
      "isGpuEnabled": true,
      "isInternetEnabled": true,
      "language": "python",
      "sourceType": "notebook"
    },
    "kernelspec": {
      "display_name": "Python 3",
      "name": "python3"
    },
    "language_info": {
      "codemirror_mode": {
        "name": "ipython",
        "version": 3
      },
      "file_extension": ".py",
      "mimetype": "text/x-python",
      "name": "python",
      "nbconvert_exporter": "python",
      "pygments_lexer": "ipython3",
      "version": "3.10.12"
    }
  },
  "nbformat": 4,
  "nbformat_minor": 0
}
